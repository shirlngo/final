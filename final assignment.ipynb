{
 "cells": [
  {
   "cell_type": "code",
   "execution_count": 1,
   "id": "2b356679",
   "metadata": {},
   "outputs": [
    {
     "name": "stdout",
     "output_type": "stream",
     "text": [
      "C:\\Users\\USER\n"
     ]
    }
   ],
   "source": [
    "# Checking working directory - HOSPITAL 1\n",
    "import os\n",
    "import pandas as pd\n",
    "\n",
    "current_directory = os.getcwd()\n",
    "print(current_directory)"
   ]
  },
  {
   "cell_type": "code",
   "execution_count": 2,
   "id": "baf5e9cc",
   "metadata": {},
   "outputs": [],
   "source": [
    "# Change working directory - HOSPITAL 1\n",
    "new_directory_path = r'C:\\Users\\USER'\n",
    "os.chdir(new_directory_path)"
   ]
  },
  {
   "cell_type": "code",
   "execution_count": 3,
   "id": "3edff32f",
   "metadata": {},
   "outputs": [
    {
     "name": "stdout",
     "output_type": "stream",
     "text": [
      "C:\\Users\\USER\n"
     ]
    }
   ],
   "source": [
    "updated_dir = os.getcwd()\n",
    "print(updated_dir)"
   ]
  },
  {
   "cell_type": "code",
   "execution_count": 4,
   "id": "610e1b2b",
   "metadata": {},
   "outputs": [
    {
     "name": "stdout",
     "output_type": "stream",
     "text": [
      "PatientID, Readmission, StaffSatisfaction, CleanlinessSatisfaction, FoodSatisfaction, ComfortSatisfaction, CommunicationSatisfaction\n",
      "101, 1, 4, 5, 3, 4, 5\n",
      "102, 0, 3, 2, 4, 2, 3\n",
      "103, 1, 5, 4, 5, 4, 4\n",
      "104, 0, 5, 3, 5, 4, 5\n",
      "105, 1, 4, 5, 3, 4, 4\n",
      "106, 1, 2, 3, 2, 3, 3\n",
      "107, 0, 3, 2, 3, 4, 3\n",
      "108, 0, 5, 5, 4, 5, 5\n",
      "109, 1, 4, 4, 4, 4, 4\n",
      "110, 0, 3, 3, 3, 4, 3\n",
      "111, 1, 4, 5, 4, 4, 5\n",
      "112, 0, 2, 3, 2, 3, 2\n",
      "113, 1, 3, 4, 3, 4, 3\n",
      "114, 1, 3, 3, 3, 2, 3\n",
      "115, 0, 5, 4, 5, 5, 5\n",
      "116, 1, 4, 3, 4, 4, 4\n",
      "117, 0, 2, 2, 2, 3, 3\n",
      "118, 0, 5, 5, 4, 4, 5\n",
      "119, 1, 4, 4, 4, 4, 4\n",
      "120, 0, 3, 3, 3, 4, 3\n",
      "121, 1, 4, 5, 5, 4, 4\n",
      "122, 1, 3, 4, 4, 4, 3\n",
      "123, 0, 4, 3, 4, 3, 4\n",
      "124, 0, 2, 2, 2, 3, 3\n",
      "125, 1, 3, 4, 3, 4, 3\n",
      "126, 0, 4, 5, 5, 5, 5\n",
      "127, 1, 3, 4, 4, 4, 3\n",
      "128, 0, 4, 3, 4, 3, 4\n",
      "129, 0, 2, 2, 2, 3, 3\n",
      "130, 1, 3, 4, 3, 4, 3\n",
      "131, 1, 4, 5, 3, 4, 5\n",
      "132, 0, 3, 2, 4, 2, 3\n",
      "133, 1, 5, 4, 5, 4, 4\n",
      "134, 0, 5, 3, 5, 4, 5\n",
      "135, 1, 4, 5, 3, 4, 4\n",
      "136, 1, 2, 3, 2, 3, 3\n",
      "137, 0, 3, 2, 3, 4, 3\n",
      "138, 0, 5, 5, 4, 5, 5\n",
      "139, 1, 4, 4, 4, 4, 4\n",
      "140, 0, 3, 3, 3, 4, 3\n",
      "141, 1, 4, 5, 4, 4, 5\n",
      "142, 0, 2, 3, 2, 3, 2\n",
      "143, 1, 3, 4, 3, 4, 3\n",
      "144, 1, 3, 3, 3, 2, 3\n",
      "145, 0, 5, 4, 5, 5, 5\n",
      "146, 1, 4, 3, 4, 4, 4\n",
      "147, 0, 2, 2, 2, 3, 3\n",
      "148, 0, 5, 5, 4, 4, 5\n",
      "149, 1, 4, 4, 4, 4, 4\n",
      "150, 0, 3, 3, 3, 4, 3\n",
      "151, 1, 4, 5, 5, 4, 4\n",
      "152, 1, 3, 4, 4, 4, 3\n",
      "153, 0, 4, 3, 4, 3, 4\n",
      "154, 0, 2, 2, 2, 3, 3\n",
      "155, 1, 3, 4, 3, 4, 3\n",
      "156, 0, 4, 5, 5, 5, 5\n",
      "157, 1, 3, 4, 4, 4, 3\n",
      "158, 0, 4, 3, 4, 3, 4\n",
      "159, 0, 2, 2, 2, 3, 3\n",
      "160, 1, 3, 4, 3, 4, 3\n",
      "161, 1, 4, 5, 3, 4, 5\n",
      "162, 0, 3, 2, 4, 2, 3\n",
      "163, 1, 5, 4, 5, 4, 4\n",
      "164, 0, 5, 3, 5, 4, 5\n",
      "165, 1, 4, 5, 3, 4, 4\n",
      "166, 1, 2, 3, 2, 3, 3\n",
      "167, 0, 3, 2, 3, 4, 3\n",
      "168, 0, 5, 5, 4, 5, 5\n",
      "169, 1, 4, 4, 4, 4, 4\n",
      "170, 0, 3, 3, 3, 4, 3\n",
      "171, 1, 4, 5, 4, 4, 5\n",
      "172, 0, 2, 3, 2, 3, 2\n",
      "173, 1, 3, 4, 3, 4, 3\n",
      "174, 1, 3, 3, 3, 2, 3\n"
     ]
    }
   ],
   "source": [
    "file_path = r\"C:\\Users\\USER\\Downloads\\Hospital1.txt\"\n",
    "\n",
    "try:\n",
    "    with open(file_path, \"r\") as file:\n",
    "        content = file.read()\n",
    "        print(content)\n",
    "except FileNotFoundError:\n",
    "    print(f\"File '{file_path}' not found.\")\n",
    "except IOError:\n",
    "    print(\"An error occured while reading the file.\")"
   ]
  },
  {
   "cell_type": "code",
   "execution_count": 5,
   "id": "5652dd50",
   "metadata": {},
   "outputs": [],
   "source": [
    "# Number of patients who were readmitted - HOSPITAL 1\n",
    "df = pd.read_csv(file_path)"
   ]
  },
  {
   "cell_type": "code",
   "execution_count": 7,
   "id": "ebf562cb",
   "metadata": {},
   "outputs": [
    {
     "name": "stdout",
     "output_type": "stream",
     "text": [
      "    PatientID   Readmission   StaffSatisfaction   CleanlinessSatisfaction  \\\n",
      "0         101             1                   4                         5   \n",
      "1         102             0                   3                         2   \n",
      "2         103             1                   5                         4   \n",
      "3         104             0                   5                         3   \n",
      "4         105             1                   4                         5   \n",
      "5         106             1                   2                         3   \n",
      "6         107             0                   3                         2   \n",
      "7         108             0                   5                         5   \n",
      "8         109             1                   4                         4   \n",
      "9         110             0                   3                         3   \n",
      "10        111             1                   4                         5   \n",
      "11        112             0                   2                         3   \n",
      "12        113             1                   3                         4   \n",
      "13        114             1                   3                         3   \n",
      "14        115             0                   5                         4   \n",
      "15        116             1                   4                         3   \n",
      "16        117             0                   2                         2   \n",
      "17        118             0                   5                         5   \n",
      "18        119             1                   4                         4   \n",
      "19        120             0                   3                         3   \n",
      "20        121             1                   4                         5   \n",
      "21        122             1                   3                         4   \n",
      "22        123             0                   4                         3   \n",
      "23        124             0                   2                         2   \n",
      "24        125             1                   3                         4   \n",
      "25        126             0                   4                         5   \n",
      "26        127             1                   3                         4   \n",
      "27        128             0                   4                         3   \n",
      "28        129             0                   2                         2   \n",
      "29        130             1                   3                         4   \n",
      "30        131             1                   4                         5   \n",
      "31        132             0                   3                         2   \n",
      "32        133             1                   5                         4   \n",
      "33        134             0                   5                         3   \n",
      "34        135             1                   4                         5   \n",
      "35        136             1                   2                         3   \n",
      "36        137             0                   3                         2   \n",
      "37        138             0                   5                         5   \n",
      "38        139             1                   4                         4   \n",
      "39        140             0                   3                         3   \n",
      "40        141             1                   4                         5   \n",
      "41        142             0                   2                         3   \n",
      "42        143             1                   3                         4   \n",
      "43        144             1                   3                         3   \n",
      "44        145             0                   5                         4   \n",
      "45        146             1                   4                         3   \n",
      "46        147             0                   2                         2   \n",
      "47        148             0                   5                         5   \n",
      "48        149             1                   4                         4   \n",
      "49        150             0                   3                         3   \n",
      "50        151             1                   4                         5   \n",
      "51        152             1                   3                         4   \n",
      "52        153             0                   4                         3   \n",
      "53        154             0                   2                         2   \n",
      "54        155             1                   3                         4   \n",
      "55        156             0                   4                         5   \n",
      "56        157             1                   3                         4   \n",
      "57        158             0                   4                         3   \n",
      "58        159             0                   2                         2   \n",
      "59        160             1                   3                         4   \n",
      "60        161             1                   4                         5   \n",
      "61        162             0                   3                         2   \n",
      "62        163             1                   5                         4   \n",
      "63        164             0                   5                         3   \n",
      "64        165             1                   4                         5   \n",
      "65        166             1                   2                         3   \n",
      "66        167             0                   3                         2   \n",
      "67        168             0                   5                         5   \n",
      "68        169             1                   4                         4   \n",
      "69        170             0                   3                         3   \n",
      "70        171             1                   4                         5   \n",
      "71        172             0                   2                         3   \n",
      "72        173             1                   3                         4   \n",
      "73        174             1                   3                         3   \n",
      "\n",
      "     FoodSatisfaction   ComfortSatisfaction   CommunicationSatisfaction  \n",
      "0                   3                     4                           5  \n",
      "1                   4                     2                           3  \n",
      "2                   5                     4                           4  \n",
      "3                   5                     4                           5  \n",
      "4                   3                     4                           4  \n",
      "5                   2                     3                           3  \n",
      "6                   3                     4                           3  \n",
      "7                   4                     5                           5  \n",
      "8                   4                     4                           4  \n",
      "9                   3                     4                           3  \n",
      "10                  4                     4                           5  \n",
      "11                  2                     3                           2  \n",
      "12                  3                     4                           3  \n",
      "13                  3                     2                           3  \n",
      "14                  5                     5                           5  \n",
      "15                  4                     4                           4  \n",
      "16                  2                     3                           3  \n",
      "17                  4                     4                           5  \n",
      "18                  4                     4                           4  \n",
      "19                  3                     4                           3  \n",
      "20                  5                     4                           4  \n",
      "21                  4                     4                           3  \n",
      "22                  4                     3                           4  \n",
      "23                  2                     3                           3  \n",
      "24                  3                     4                           3  \n",
      "25                  5                     5                           5  \n",
      "26                  4                     4                           3  \n",
      "27                  4                     3                           4  \n",
      "28                  2                     3                           3  \n",
      "29                  3                     4                           3  \n",
      "30                  3                     4                           5  \n",
      "31                  4                     2                           3  \n",
      "32                  5                     4                           4  \n",
      "33                  5                     4                           5  \n",
      "34                  3                     4                           4  \n",
      "35                  2                     3                           3  \n",
      "36                  3                     4                           3  \n",
      "37                  4                     5                           5  \n",
      "38                  4                     4                           4  \n",
      "39                  3                     4                           3  \n",
      "40                  4                     4                           5  \n",
      "41                  2                     3                           2  \n",
      "42                  3                     4                           3  \n",
      "43                  3                     2                           3  \n",
      "44                  5                     5                           5  \n",
      "45                  4                     4                           4  \n",
      "46                  2                     3                           3  \n",
      "47                  4                     4                           5  \n",
      "48                  4                     4                           4  \n",
      "49                  3                     4                           3  \n",
      "50                  5                     4                           4  \n",
      "51                  4                     4                           3  \n",
      "52                  4                     3                           4  \n",
      "53                  2                     3                           3  \n",
      "54                  3                     4                           3  \n",
      "55                  5                     5                           5  \n",
      "56                  4                     4                           3  \n",
      "57                  4                     3                           4  \n",
      "58                  2                     3                           3  \n",
      "59                  3                     4                           3  \n",
      "60                  3                     4                           5  \n",
      "61                  4                     2                           3  \n",
      "62                  5                     4                           4  \n",
      "63                  5                     4                           5  \n",
      "64                  3                     4                           4  \n",
      "65                  2                     3                           3  \n",
      "66                  3                     4                           3  \n",
      "67                  4                     5                           5  \n",
      "68                  4                     4                           4  \n",
      "69                  3                     4                           3  \n",
      "70                  4                     4                           5  \n",
      "71                  2                     3                           2  \n",
      "72                  3                     4                           3  \n",
      "73                  3                     2                           3  \n"
     ]
    }
   ],
   "source": [
    "import pandas as pd\n",
    "\n",
    "# Set options to display all rows and columns\n",
    "pd.set_option('display.max_rows', None)\n",
    "pd.set_option('display.max_columns', None)\n",
    "\n",
    "print(df)"
   ]
  },
  {
   "cell_type": "code",
   "execution_count": 8,
   "id": "79761a37",
   "metadata": {},
   "outputs": [
    {
     "name": "stdout",
     "output_type": "stream",
     "text": [
      "Index(['PatientID', ' Readmission', ' StaffSatisfaction',\n",
      "       ' CleanlinessSatisfaction', ' FoodSatisfaction', ' ComfortSatisfaction',\n",
      "       ' CommunicationSatisfaction'],\n",
      "      dtype='object')\n"
     ]
    }
   ],
   "source": [
    "print(df.columns)"
   ]
  },
  {
   "cell_type": "code",
   "execution_count": 9,
   "id": "a63da68e",
   "metadata": {},
   "outputs": [
    {
     "name": "stdout",
     "output_type": "stream",
     "text": [
      "The number of patients who were readmitted were 38.\n"
     ]
    }
   ],
   "source": [
    "# Patients readmitted - HOSPITAL 1\n",
    "patients_readmitted = df[' Readmission'].sum()\n",
    "print(f\"The number of patients who were readmitted were {patients_readmitted}.\")"
   ]
  },
  {
   "cell_type": "code",
   "execution_count": 15,
   "id": "1038e937",
   "metadata": {},
   "outputs": [
    {
     "name": "stdout",
     "output_type": "stream",
     "text": [
      "3.5135135135135136\n"
     ]
    }
   ],
   "source": [
    "# Average satisfaction score for staff - HOSPITAL 1\n",
    "average_satisfacation_staff = df[' StaffSatisfaction'].mean()\n",
    "print(average_satisfacation_staff)"
   ]
  },
  {
   "cell_type": "code",
   "execution_count": 17,
   "id": "1e16e18d",
   "metadata": {},
   "outputs": [
    {
     "name": "stdout",
     "output_type": "stream",
     "text": [
      "3.51\n"
     ]
    }
   ],
   "source": [
    "x = round(3.5135135135135136, 2)\n",
    "print(x)"
   ]
  },
  {
   "cell_type": "code",
   "execution_count": 18,
   "id": "4ba0fa85",
   "metadata": {},
   "outputs": [
    {
     "name": "stdout",
     "output_type": "stream",
     "text": [
      "3.608108108108108\n"
     ]
    }
   ],
   "source": [
    "# Average satisfaction score for cleanliness - HOSPITAL 1\n",
    "average_satisfaction_cleanliness = df[' CleanlinessSatisfaction'].mean()\n",
    "print(average_satisfaction_cleanliness)"
   ]
  },
  {
   "cell_type": "code",
   "execution_count": 19,
   "id": "23277cfd",
   "metadata": {},
   "outputs": [
    {
     "name": "stdout",
     "output_type": "stream",
     "text": [
      "3.61\n"
     ]
    }
   ],
   "source": [
    "x = round(3.608108108108108, 2)\n",
    "print(x)"
   ]
  },
  {
   "cell_type": "code",
   "execution_count": 20,
   "id": "c8199e10",
   "metadata": {},
   "outputs": [
    {
     "name": "stdout",
     "output_type": "stream",
     "text": [
      "3.5135135135135136\n"
     ]
    }
   ],
   "source": [
    "# Average satisfaction score for food - HOSPITAL 1\n",
    "average_satisfaction_food = df[' FoodSatisfaction'].mean()\n",
    "print(average_satisfaction_food)"
   ]
  },
  {
   "cell_type": "code",
   "execution_count": 21,
   "id": "5f704cc4",
   "metadata": {},
   "outputs": [
    {
     "name": "stdout",
     "output_type": "stream",
     "text": [
      "3.51\n"
     ]
    }
   ],
   "source": [
    "x = round(3.5135135135135136, 2)\n",
    "print(x)"
   ]
  },
  {
   "cell_type": "code",
   "execution_count": 22,
   "id": "60ea6377",
   "metadata": {},
   "outputs": [
    {
     "name": "stdout",
     "output_type": "stream",
     "text": [
      "3.7162162162162162\n"
     ]
    }
   ],
   "source": [
    "# Average satisfaction for comfort - HOSPITAL 1\n",
    "average_satisfaction_comfort = df[' ComfortSatisfaction'].mean()\n",
    "print(average_satisfaction_comfort)"
   ]
  },
  {
   "cell_type": "code",
   "execution_count": 23,
   "id": "fdaf8dc0",
   "metadata": {},
   "outputs": [
    {
     "name": "stdout",
     "output_type": "stream",
     "text": [
      "3.72\n"
     ]
    }
   ],
   "source": [
    "x = round(3.7162162162162162, 2)\n",
    "print(x)"
   ]
  },
  {
   "cell_type": "code",
   "execution_count": 24,
   "id": "cbcaa3a7",
   "metadata": {},
   "outputs": [
    {
     "name": "stdout",
     "output_type": "stream",
     "text": [
      "3.7027027027027026\n"
     ]
    }
   ],
   "source": [
    "# Average satisfaction for communication - HOSPITAL 1\n",
    "average_satisfaction_communication = df[' CommunicationSatisfaction'].mean()\n",
    "print(average_satisfaction_communication)"
   ]
  },
  {
   "cell_type": "code",
   "execution_count": 25,
   "id": "12183015",
   "metadata": {},
   "outputs": [
    {
     "name": "stdout",
     "output_type": "stream",
     "text": [
      "3.7\n"
     ]
    }
   ],
   "source": [
    "x = round(3.7027027027027026, 2)\n",
    "print(x)"
   ]
  },
  {
   "cell_type": "code",
   "execution_count": 26,
   "id": "f4559285",
   "metadata": {},
   "outputs": [],
   "source": [
    "# List of satisfaction category columns \n",
    "category_columns = [' StaffSatisfaction', ' CleanlinessSatisfaction', ' FoodSatisfaction', ' ComfortSatisfaction', ' CommunicationSatisfaction']"
   ]
  },
  {
   "cell_type": "code",
   "execution_count": 28,
   "id": "db39c9da",
   "metadata": {},
   "outputs": [
    {
     "name": "stdout",
     "output_type": "stream",
     "text": [
      "    Overall_Satisfaction\n",
      "0                    4.2\n",
      "1                    2.8\n",
      "2                    4.4\n",
      "3                    4.4\n",
      "4                    4.0\n",
      "5                    2.6\n",
      "6                    3.0\n",
      "7                    4.8\n",
      "8                    4.0\n",
      "9                    3.2\n",
      "10                   4.4\n",
      "11                   2.4\n",
      "12                   3.4\n",
      "13                   2.8\n",
      "14                   4.8\n",
      "15                   3.8\n",
      "16                   2.4\n",
      "17                   4.6\n",
      "18                   4.0\n",
      "19                   3.2\n",
      "20                   4.4\n",
      "21                   3.6\n",
      "22                   3.6\n",
      "23                   2.4\n",
      "24                   3.4\n",
      "25                   4.8\n",
      "26                   3.6\n",
      "27                   3.6\n",
      "28                   2.4\n",
      "29                   3.4\n",
      "30                   4.2\n",
      "31                   2.8\n",
      "32                   4.4\n",
      "33                   4.4\n",
      "34                   4.0\n",
      "35                   2.6\n",
      "36                   3.0\n",
      "37                   4.8\n",
      "38                   4.0\n",
      "39                   3.2\n",
      "40                   4.4\n",
      "41                   2.4\n",
      "42                   3.4\n",
      "43                   2.8\n",
      "44                   4.8\n",
      "45                   3.8\n",
      "46                   2.4\n",
      "47                   4.6\n",
      "48                   4.0\n",
      "49                   3.2\n",
      "50                   4.4\n",
      "51                   3.6\n",
      "52                   3.6\n",
      "53                   2.4\n",
      "54                   3.4\n",
      "55                   4.8\n",
      "56                   3.6\n",
      "57                   3.6\n",
      "58                   2.4\n",
      "59                   3.4\n",
      "60                   4.2\n",
      "61                   2.8\n",
      "62                   4.4\n",
      "63                   4.4\n",
      "64                   4.0\n",
      "65                   2.6\n",
      "66                   3.0\n",
      "67                   4.8\n",
      "68                   4.0\n",
      "69                   3.2\n",
      "70                   4.4\n",
      "71                   2.4\n",
      "72                   3.4\n",
      "73                   2.8\n"
     ]
    }
   ],
   "source": [
    "# Calculate the overall satisfaction score - HOSPITAL 1\n",
    "df['Overall_Satisfaction'] = df[category_columns].mean(axis=1)\n",
    "print(df[['Overall_Satisfaction']])"
   ]
  },
  {
   "cell_type": "code",
   "execution_count": 30,
   "id": "5f983cd9",
   "metadata": {},
   "outputs": [
    {
     "name": "stdout",
     "output_type": "stream",
     "text": [
      "0     1\n",
      "1     0\n",
      "2     1\n",
      "3     0\n",
      "4     1\n",
      "5     1\n",
      "6     0\n",
      "7     0\n",
      "8     1\n",
      "9     0\n",
      "10    1\n",
      "11    0\n",
      "12    1\n",
      "13    1\n",
      "14    0\n",
      "15    1\n",
      "16    0\n",
      "17    0\n",
      "18    1\n",
      "19    0\n",
      "20    1\n",
      "21    1\n",
      "22    0\n",
      "23    0\n",
      "24    1\n",
      "25    0\n",
      "26    1\n",
      "27    0\n",
      "28    0\n",
      "29    1\n",
      "30    1\n",
      "31    0\n",
      "32    1\n",
      "33    0\n",
      "34    1\n",
      "35    1\n",
      "36    0\n",
      "37    0\n",
      "38    1\n",
      "39    0\n",
      "40    1\n",
      "41    0\n",
      "42    1\n",
      "43    1\n",
      "44    0\n",
      "45    1\n",
      "46    0\n",
      "47    0\n",
      "48    1\n",
      "49    0\n",
      "50    1\n",
      "51    1\n",
      "52    0\n",
      "53    0\n",
      "54    1\n",
      "55    0\n",
      "56    1\n",
      "57    0\n",
      "58    0\n",
      "59    1\n",
      "60    1\n",
      "61    0\n",
      "62    1\n",
      "63    0\n",
      "64    1\n",
      "65    1\n",
      "66    0\n",
      "67    0\n",
      "68    1\n",
      "69    0\n",
      "70    1\n",
      "71    0\n",
      "72    1\n",
      "73    1\n",
      "Name:  Readmission, dtype: int64\n"
     ]
    }
   ],
   "source": [
    "print(df[' Readmission'])"
   ]
  },
  {
   "cell_type": "code",
   "execution_count": 29,
   "id": "7007051e",
   "metadata": {},
   "outputs": [],
   "source": [
    "# Importing\n",
    "import pandas as pd\n",
    "import matplotlib.pyplot as plt\n",
    "from sklearn.linear_model import LogisticRegression\n",
    "X = df[['Overall_Satisfaction']]\n",
    "Y = df[' Readmission']\n",
    "log_reg = LogisticRegression().fit(X, Y)"
   ]
  },
  {
   "cell_type": "code",
   "execution_count": 31,
   "id": "e184942c",
   "metadata": {},
   "outputs": [],
   "source": [
    "# Data set - HOSPITAL 1\n",
    "data = {\n",
    "\n",
    "    'Overall Satisfaction': [4.2, 2.8, 4.4, 4.4, 4.0, 2.6, 3.0, 4.8, 4.0, 3.2, 4.4, 2.4, 3.4, 2.8, 4.8, 3.8, 2.4, 4.6, 4.0, 3.2, 4.4, 3.6, 3.6, 2.4, 3.4, 4.8, 3.6, 3.6, 2.4, 3.4, 4.2, 2.8,  4.4, 4.4, 4.0, 2.6, 3.0, 4.8, 4.0, 3.2, 4.4, 2.4, 3.4, 2.8, 4.8, 3.8, 2.4, 4.6, 4.0, 3.2, 4.4, 3.6, 3.6, 2.4, 3.4, 4.8, 3.6, 3.6, 2.4, 3.4, 4.2, 2.8, 4.4, 4.4, 4.0, 2.6, 3.0, 4.8, 4.0, 3.2, 4.4, 2.4, 3.4, 2.8], \n",
    "    'Readmission': [ 1, 0, 1, 0, 1, 1, 0, 0, 1, 0, 1, 0, 1, 1, 0, 1, 0, 0, 1, 0, 1, 1, 0, 0, 1, 0, 1, 0, 0, 1, 1, 0, 1, 0, 1, 1, 0, 0, 1, 0, 1, 0, 1, 1, 0, 1, 0, 0, 1, 0, 1, 1, 0, 0, 1, 0, 1, 0, 0, 1, 1, 0, 1, 0, 1, 1, 0, 0, 1, 0, 1, 0, 1, 1]\n",
    "\n",
    "}"
   ]
  },
  {
   "cell_type": "code",
   "execution_count": 64,
   "id": "9f326a72",
   "metadata": {},
   "outputs": [
    {
     "name": "stdout",
     "output_type": "stream",
     "text": [
      "       Overall Satisfaction  Readmission\n",
      "count             74.000000    74.000000\n",
      "mean               3.610811     0.513514\n",
      "std                0.772040     0.503229\n",
      "min                2.400000     0.000000\n",
      "25%                3.000000     0.000000\n",
      "50%                3.600000     1.000000\n",
      "75%                4.400000     1.000000\n",
      "max                4.800000     1.000000\n"
     ]
    }
   ],
   "source": [
    "df = pd.DataFrame(data)\n",
    "\n",
    "df_descriptive = df.describe()\n",
    "\n",
    "print(df_descriptive)"
   ]
  },
  {
   "cell_type": "code",
   "execution_count": 33,
   "id": "443664f2",
   "metadata": {},
   "outputs": [],
   "source": [
    "# Prepare the data - HOSPITAL 1\n",
    "X = df[['Overall Satisfaction']]\n",
    "Y = df['Readmission']"
   ]
  },
  {
   "cell_type": "code",
   "execution_count": 38,
   "id": "486cf716",
   "metadata": {},
   "outputs": [
    {
     "data": {
      "image/png": "[encoded data removed]",
      "text/plain": [
       "<Figure size 800x600 with 1 Axes>"
      ]
     },
     "metadata": {},
     "output_type": "display_data"
    }
   ],
   "source": [
    "# Scatter plot of Overall Satisfaction vs Readmission - HOSPITAL 1\n",
    "plt.figure(figsize=(8, 6))\n",
    "plt.scatter(df['Overall Satisfaction'], df['Readmission'], color='pink')\n",
    "plt.xlabel('Overall Satisfaction')\n",
    "plt.ylabel('Readmission')\n",
    "plt.title(\"Overall Satisfaction vs Readmission - Hospital 1\")\n",
    "plt.show()"
   ]
  },
  {
   "cell_type": "code",
   "execution_count": 35,
   "id": "924b5307",
   "metadata": {},
   "outputs": [],
   "source": [
    "# Logistic regression model - HOSPITAL 1\n",
    "X = df[['Overall Satisfaction']]\n",
    "Y = df['Readmission']\n",
    "regression = LogisticRegression().fit(X,Y)"
   ]
  },
  {
   "cell_type": "code",
   "execution_count": 36,
   "id": "4961536d",
   "metadata": {},
   "outputs": [
    {
     "name": "stderr",
     "output_type": "stream",
     "text": [
      "C:\\Users\\USER\\anaconda3\\Lib\\site-packages\\sklearn\\base.py:464: UserWarning: X does not have valid feature names, but LogisticRegression was fitted with feature names\n",
      "  warnings.warn(\n"
     ]
    },
    {
     "data": {
      "image/png": "[encoded data removed]",
      "text/plain": [
       "<Figure size 640x480 with 1 Axes>"
      ]
     },
     "metadata": {},
     "output_type": "display_data"
    }
   ],
   "source": [
    "X = df[['Overall Satisfaction']].values.reshape(-1,1)\n",
    "Y = df['Readmission'].values.reshape(-1,1)\n",
    "plt.plot(X, regression.predict(X), label = \"Regression Line\", color= \"blue\")\n",
    "plt.scatter(df['Overall Satisfaction'], df['Readmission'], color='pink')\n",
    "plt.show()"
   ]
  },
  {
   "cell_type": "code",
   "execution_count": 37,
   "id": "6d08ad2d",
   "metadata": {},
   "outputs": [
    {
     "name": "stdout",
     "output_type": "stream",
     "text": [
      "The absolute correlation coefficient is 0.39, indicating a weak correlation.\n"
     ]
    },
    {
     "name": "stderr",
     "output_type": "stream",
     "text": [
      "C:\\Users\\USER\\anaconda3\\Lib\\site-packages\\sklearn\\utils\\validation.py:1184: DataConversionWarning: A column-vector y was passed when a 1d array was expected. Please change the shape of y to (n_samples, ), for example using ravel().\n",
      "  y = column_or_1d(y, warn=True)\n"
     ]
    }
   ],
   "source": [
    "# Logistic regression model - HOSPITAL 1\n",
    "regression = LogisticRegression().fit(X,Y)\n",
    "\n",
    "# Correlation coefficient\n",
    "correlation = log_reg.coef_[0][0]\n",
    "\n",
    "# Absolute Correlation\n",
    "abs_correlation = abs(correlation)\n",
    "\n",
    "# Threshold \n",
    "threshold = 0.5\n",
    "\n",
    "# Determine the strength of the correlation\n",
    "if abs_correlation >= threshold:\n",
    "    strength = \"strong\"\n",
    "else:\n",
    "    strength = \"weak\"\n",
    "\n",
    "print(f\"The absolute correlation coefficient is {abs_correlation:.2f}, indicating a {strength} correlation.\")"
   ]
  },
  {
   "cell_type": "code",
   "execution_count": 39,
   "id": "826ddadb",
   "metadata": {},
   "outputs": [
    {
     "name": "stdout",
     "output_type": "stream",
     "text": [
      "C:\\Users\\USER\n"
     ]
    }
   ],
   "source": [
    "# Checking working directory - HOSPITAL 2\n",
    "import os\n",
    "import pandas as pd\n",
    "\n",
    "current_directory = os.getcwd()\n",
    "print(current_directory)"
   ]
  },
  {
   "cell_type": "code",
   "execution_count": 41,
   "id": "e2382f64",
   "metadata": {},
   "outputs": [],
   "source": [
    "# Change working directory - HOSPITAL 2\n",
    "new_directory_path = r'C:\\Users\\USER'\n",
    "os.chdir(new_directory_path)"
   ]
  },
  {
   "cell_type": "code",
   "execution_count": 42,
   "id": "c19028cb",
   "metadata": {},
   "outputs": [
    {
     "name": "stdout",
     "output_type": "stream",
     "text": [
      "C:\\Users\\USER\n"
     ]
    }
   ],
   "source": [
    "updated_dir = os.getcwd()\n",
    "print(updated_dir)"
   ]
  },
  {
   "cell_type": "code",
   "execution_count": 43,
   "id": "535b9674",
   "metadata": {},
   "outputs": [
    {
     "name": "stdout",
     "output_type": "stream",
     "text": [
      "PatientID, Readmission, StaffSatisfaction, CleanlinessSatisfaction, FoodSatisfaction, ComfortSatisfaction, CommunicationSatisfaction\n",
      "101, 1, 4, 5, 3, 4, 5\n",
      "102, 0, 3, 2, 4, 2, 3\n",
      "103, 1, 5, 4, 5, 4, 4\n",
      "104, 0, 5, 3, 5, 4, 5\n",
      "105, 1, 4, 5, 3, 4, 4\n",
      "106, 1, 2, 3, 2, 3, 3\n",
      "107, 0, 3, 2, 3, 4, 3\n",
      "108, 0, 5, 5, 4, 5, 5\n",
      "109, 1, 4, 4, 4, 4, 4\n",
      "110, 0, 3, 3, 3, 4, 3\n",
      "111, 1, 4, 5, 4, 4, 5\n",
      "112, 0, 2, 3, 2, 3, 2\n",
      "113, 1, 3, 4, 3, 4, 3\n",
      "114, 1, 3, 3, 3, 2, 3\n",
      "115, 0, 5, 4, 5, 5, 5\n",
      "116, 1, 4, 3, 4, 4, 4\n",
      "117, 0, 2, 2, 2, 3, 3\n",
      "118, 0, 5, 5, 4, 4, 5\n",
      "119, 1, 4, 4, 4, 4, 4\n",
      "120, 0, 3, 3, 3, 4, 3\n",
      "121, 1, 4, 5, 5, 4, 4\n",
      "122, 1, 3, 4, 4, 4, 3\n",
      "123, 0, 4, 3, 4, 3, 4\n",
      "124, 0, 2, 2, 2, 3, 3\n",
      "125, 1, 3, 4, 3, 4, 3\n",
      "126, 0, 4, 5, 5, 5, 5\n",
      "127, 1, 3, 4, 4, 4, 3\n",
      "128, 0, 4, 3, 4, 3, 4\n",
      "129, 0, 2, 2, 2, 3, 3\n",
      "130, 1, 3, 4, 3, 4, 3\n",
      "131, 1, 4, 5, 3, 4, 5\n",
      "132, 0, 3, 2, 4, 2, 3\n",
      "133, 1, 5, 4, 5, 4, 4\n",
      "134, 0, 5, 3, 5, 4, 5\n",
      "135, 1, 4, 5, 3, 4, 4\n",
      "136, 1, 2, 3, 2, 3, 3\n",
      "137, 0, 3, 2, 3, 4, 3\n",
      "138, 0, 5, 5, 4, 5, 5\n",
      "139, 1, 4, 4, 4, 4, 4\n",
      "140, 0, 3, 3, 3, 4, 3\n",
      "141, 1, 4, 5, 4, 4, 5\n",
      "142, 0, 2, 3, 2, 3, 2\n",
      "143, 1, 3, 4, 3, 4, 3\n",
      "144, 1, 3, 3, 3, 2, 3\n",
      "145, 0, 5, 4, 5, 5, 5\n",
      "146, 1, 4, 3, 4, 4, 4\n",
      "147, 0, 2, 2, 2, 3, 3\n",
      "148, 0, 5, 5, 4, 4, 5\n",
      "149, 1, 4, 4, 4, 4, 4\n",
      "150, 0, 3, 3, 3, 4, 3\n",
      "151, 1, 4, 5, 5, 4, 4\n",
      "152, 1, 3, 4, 4, 4, 3\n",
      "153, 0, 4, 3, 4, 3, 4\n",
      "154, 0, 2, 2, 2, 3, 3\n",
      "155, 1, 3, 4, 3, 4, 3\n",
      "156, 0, 4, 5, 5, 5, 5\n",
      "157, 1, 3, 4, 4, 4, 3\n"
     ]
    }
   ],
   "source": [
    "file_path = r\"C:\\Users\\USER\\Downloads\\Hospital2.txt\"\n",
    "\n",
    "try:\n",
    "    with open(file_path, \"r\") as file:\n",
    "        content = file.read()\n",
    "        print(content)\n",
    "except FileNotFoundError:\n",
    "    print(f\"File '{file_path}' not found.\")\n",
    "except IOError:\n",
    "    print(\"An error occured while reading the file.\")"
   ]
  },
  {
   "cell_type": "code",
   "execution_count": 44,
   "id": "324fb501",
   "metadata": {},
   "outputs": [],
   "source": [
    "# Number of patients who were readmitted - HOSPITAL 2\n",
    "df = pd.read_csv(file_path)"
   ]
  },
  {
   "cell_type": "code",
   "execution_count": 45,
   "id": "146f33a3",
   "metadata": {},
   "outputs": [
    {
     "name": "stdout",
     "output_type": "stream",
     "text": [
      "    PatientID   Readmission   StaffSatisfaction   CleanlinessSatisfaction  \\\n",
      "0         101             1                   4                         5   \n",
      "1         102             0                   3                         2   \n",
      "2         103             1                   5                         4   \n",
      "3         104             0                   5                         3   \n",
      "4         105             1                   4                         5   \n",
      "5         106             1                   2                         3   \n",
      "6         107             0                   3                         2   \n",
      "7         108             0                   5                         5   \n",
      "8         109             1                   4                         4   \n",
      "9         110             0                   3                         3   \n",
      "10        111             1                   4                         5   \n",
      "11        112             0                   2                         3   \n",
      "12        113             1                   3                         4   \n",
      "13        114             1                   3                         3   \n",
      "14        115             0                   5                         4   \n",
      "15        116             1                   4                         3   \n",
      "16        117             0                   2                         2   \n",
      "17        118             0                   5                         5   \n",
      "18        119             1                   4                         4   \n",
      "19        120             0                   3                         3   \n",
      "20        121             1                   4                         5   \n",
      "21        122             1                   3                         4   \n",
      "22        123             0                   4                         3   \n",
      "23        124             0                   2                         2   \n",
      "24        125             1                   3                         4   \n",
      "25        126             0                   4                         5   \n",
      "26        127             1                   3                         4   \n",
      "27        128             0                   4                         3   \n",
      "28        129             0                   2                         2   \n",
      "29        130             1                   3                         4   \n",
      "30        131             1                   4                         5   \n",
      "31        132             0                   3                         2   \n",
      "32        133             1                   5                         4   \n",
      "33        134             0                   5                         3   \n",
      "34        135             1                   4                         5   \n",
      "35        136             1                   2                         3   \n",
      "36        137             0                   3                         2   \n",
      "37        138             0                   5                         5   \n",
      "38        139             1                   4                         4   \n",
      "39        140             0                   3                         3   \n",
      "40        141             1                   4                         5   \n",
      "41        142             0                   2                         3   \n",
      "42        143             1                   3                         4   \n",
      "43        144             1                   3                         3   \n",
      "44        145             0                   5                         4   \n",
      "45        146             1                   4                         3   \n",
      "46        147             0                   2                         2   \n",
      "47        148             0                   5                         5   \n",
      "48        149             1                   4                         4   \n",
      "49        150             0                   3                         3   \n",
      "50        151             1                   4                         5   \n",
      "51        152             1                   3                         4   \n",
      "52        153             0                   4                         3   \n",
      "53        154             0                   2                         2   \n",
      "54        155             1                   3                         4   \n",
      "55        156             0                   4                         5   \n",
      "56        157             1                   3                         4   \n",
      "\n",
      "     FoodSatisfaction   ComfortSatisfaction   CommunicationSatisfaction  \n",
      "0                   3                     4                           5  \n",
      "1                   4                     2                           3  \n",
      "2                   5                     4                           4  \n",
      "3                   5                     4                           5  \n",
      "4                   3                     4                           4  \n",
      "5                   2                     3                           3  \n",
      "6                   3                     4                           3  \n",
      "7                   4                     5                           5  \n",
      "8                   4                     4                           4  \n",
      "9                   3                     4                           3  \n",
      "10                  4                     4                           5  \n",
      "11                  2                     3                           2  \n",
      "12                  3                     4                           3  \n",
      "13                  3                     2                           3  \n",
      "14                  5                     5                           5  \n",
      "15                  4                     4                           4  \n",
      "16                  2                     3                           3  \n",
      "17                  4                     4                           5  \n",
      "18                  4                     4                           4  \n",
      "19                  3                     4                           3  \n",
      "20                  5                     4                           4  \n",
      "21                  4                     4                           3  \n",
      "22                  4                     3                           4  \n",
      "23                  2                     3                           3  \n",
      "24                  3                     4                           3  \n",
      "25                  5                     5                           5  \n",
      "26                  4                     4                           3  \n",
      "27                  4                     3                           4  \n",
      "28                  2                     3                           3  \n",
      "29                  3                     4                           3  \n",
      "30                  3                     4                           5  \n",
      "31                  4                     2                           3  \n",
      "32                  5                     4                           4  \n",
      "33                  5                     4                           5  \n",
      "34                  3                     4                           4  \n",
      "35                  2                     3                           3  \n",
      "36                  3                     4                           3  \n",
      "37                  4                     5                           5  \n",
      "38                  4                     4                           4  \n",
      "39                  3                     4                           3  \n",
      "40                  4                     4                           5  \n",
      "41                  2                     3                           2  \n",
      "42                  3                     4                           3  \n",
      "43                  3                     2                           3  \n",
      "44                  5                     5                           5  \n",
      "45                  4                     4                           4  \n",
      "46                  2                     3                           3  \n",
      "47                  4                     4                           5  \n",
      "48                  4                     4                           4  \n",
      "49                  3                     4                           3  \n",
      "50                  5                     4                           4  \n",
      "51                  4                     4                           3  \n",
      "52                  4                     3                           4  \n",
      "53                  2                     3                           3  \n",
      "54                  3                     4                           3  \n",
      "55                  5                     5                           5  \n",
      "56                  4                     4                           3  \n"
     ]
    }
   ],
   "source": [
    "print(df)"
   ]
  },
  {
   "cell_type": "code",
   "execution_count": 46,
   "id": "49c57f75",
   "metadata": {},
   "outputs": [
    {
     "name": "stdout",
     "output_type": "stream",
     "text": [
      "Index(['PatientID', ' Readmission', ' StaffSatisfaction',\n",
      "       ' CleanlinessSatisfaction', ' FoodSatisfaction', ' ComfortSatisfaction',\n",
      "       ' CommunicationSatisfaction'],\n",
      "      dtype='object')\n"
     ]
    }
   ],
   "source": [
    "print(df.columns)"
   ]
  },
  {
   "cell_type": "code",
   "execution_count": 47,
   "id": "9020adb7",
   "metadata": {},
   "outputs": [
    {
     "name": "stdout",
     "output_type": "stream",
     "text": [
      "The number of patients who were readmitted were 29.\n"
     ]
    }
   ],
   "source": [
    "# Patients readmitted - HOSPITAL 2\n",
    "patients_readmitted = df[' Readmission'].sum()\n",
    "print(f\"The number of patients who were readmitted were {patients_readmitted}.\")"
   ]
  },
  {
   "cell_type": "code",
   "execution_count": 48,
   "id": "9bb3270a",
   "metadata": {},
   "outputs": [
    {
     "name": "stdout",
     "output_type": "stream",
     "text": [
      "3.526315789473684\n"
     ]
    }
   ],
   "source": [
    "# Average satisfaction score for staff - HOSPITAL 2\n",
    "average_satisfacation_staff = df[' StaffSatisfaction'].mean()\n",
    "print(average_satisfacation_staff)"
   ]
  },
  {
   "cell_type": "code",
   "execution_count": 49,
   "id": "29131d8b",
   "metadata": {},
   "outputs": [
    {
     "name": "stdout",
     "output_type": "stream",
     "text": [
      "3.53\n"
     ]
    }
   ],
   "source": [
    "x = round(3.526315789473684, 2)\n",
    "print(x)"
   ]
  },
  {
   "cell_type": "code",
   "execution_count": 50,
   "id": "198f00f1",
   "metadata": {},
   "outputs": [
    {
     "name": "stdout",
     "output_type": "stream",
     "text": [
      "3.6315789473684212\n"
     ]
    }
   ],
   "source": [
    "# Average satisfaction score for cleanliness - HOSPITAL 2\n",
    "average_satisfaction_cleanliness = df[' CleanlinessSatisfaction'].mean()\n",
    "print(average_satisfaction_cleanliness)"
   ]
  },
  {
   "cell_type": "code",
   "execution_count": 51,
   "id": "6fca3f1c",
   "metadata": {},
   "outputs": [
    {
     "name": "stdout",
     "output_type": "stream",
     "text": [
      "3.63\n"
     ]
    }
   ],
   "source": [
    "x = round(3.6315789473684212, 2)\n",
    "print(x)"
   ]
  },
  {
   "cell_type": "code",
   "execution_count": 52,
   "id": "53750938",
   "metadata": {},
   "outputs": [
    {
     "name": "stdout",
     "output_type": "stream",
     "text": [
      "3.56140350877193\n"
     ]
    }
   ],
   "source": [
    "# Average satisfaction score for food - HOSPITAL 2\n",
    "average_satisfaction_food = df[' FoodSatisfaction'].mean()\n",
    "print(average_satisfaction_food)"
   ]
  },
  {
   "cell_type": "code",
   "execution_count": 53,
   "id": "b32b47b3",
   "metadata": {},
   "outputs": [
    {
     "name": "stdout",
     "output_type": "stream",
     "text": [
      "3.56\n"
     ]
    }
   ],
   "source": [
    "x = round(3.56140350877193, 2)\n",
    "print(x)"
   ]
  },
  {
   "cell_type": "code",
   "execution_count": 54,
   "id": "35fd1c8a",
   "metadata": {},
   "outputs": [
    {
     "name": "stdout",
     "output_type": "stream",
     "text": [
      "3.754385964912281\n"
     ]
    }
   ],
   "source": [
    "# Average satisfaction for comfort - HOSPITAL 2\n",
    "average_satisfaction_comfort = df[' ComfortSatisfaction'].mean()\n",
    "print(average_satisfaction_comfort)"
   ]
  },
  {
   "cell_type": "code",
   "execution_count": 55,
   "id": "24184d77",
   "metadata": {},
   "outputs": [
    {
     "name": "stdout",
     "output_type": "stream",
     "text": [
      "3.75\n"
     ]
    }
   ],
   "source": [
    "x = round(3.754385964912281, 2)\n",
    "print(x)"
   ]
  },
  {
   "cell_type": "code",
   "execution_count": 56,
   "id": "03112a9e",
   "metadata": {},
   "outputs": [
    {
     "name": "stdout",
     "output_type": "stream",
     "text": [
      "3.719298245614035\n"
     ]
    }
   ],
   "source": [
    "# Average satisfaction for communication - HOSPITAL 2\n",
    "average_satisfaction_communication = df[' CommunicationSatisfaction'].mean()\n",
    "print(average_satisfaction_communication)"
   ]
  },
  {
   "cell_type": "code",
   "execution_count": 57,
   "id": "dd5c1dd6",
   "metadata": {},
   "outputs": [
    {
     "name": "stdout",
     "output_type": "stream",
     "text": [
      "3.72\n"
     ]
    }
   ],
   "source": [
    "x = round(3.719298245614035, 2)\n",
    "print(x)"
   ]
  },
  {
   "cell_type": "code",
   "execution_count": 58,
   "id": "6b101128",
   "metadata": {},
   "outputs": [],
   "source": [
    "# List of satisfaction category columns\n",
    "category_columns = [' StaffSatisfaction', ' CleanlinessSatisfaction', ' FoodSatisfaction', ' ComfortSatisfaction', ' CommunicationSatisfaction']"
   ]
  },
  {
   "cell_type": "code",
   "execution_count": 59,
   "id": "ccf8e09c",
   "metadata": {},
   "outputs": [],
   "source": [
    "# Calculate the overall satisfaction score \n",
    "df['Overall_Satisfaction'] = df[category_columns].mean(axis=1)"
   ]
  },
  {
   "cell_type": "code",
   "execution_count": 60,
   "id": "6ecfcf7a",
   "metadata": {},
   "outputs": [
    {
     "name": "stdout",
     "output_type": "stream",
     "text": [
      "    Overall_Satisfaction\n",
      "0                    4.2\n",
      "1                    2.8\n",
      "2                    4.4\n",
      "3                    4.4\n",
      "4                    4.0\n",
      "5                    2.6\n",
      "6                    3.0\n",
      "7                    4.8\n",
      "8                    4.0\n",
      "9                    3.2\n",
      "10                   4.4\n",
      "11                   2.4\n",
      "12                   3.4\n",
      "13                   2.8\n",
      "14                   4.8\n",
      "15                   3.8\n",
      "16                   2.4\n",
      "17                   4.6\n",
      "18                   4.0\n",
      "19                   3.2\n",
      "20                   4.4\n",
      "21                   3.6\n",
      "22                   3.6\n",
      "23                   2.4\n",
      "24                   3.4\n",
      "25                   4.8\n",
      "26                   3.6\n",
      "27                   3.6\n",
      "28                   2.4\n",
      "29                   3.4\n",
      "30                   4.2\n",
      "31                   2.8\n",
      "32                   4.4\n",
      "33                   4.4\n",
      "34                   4.0\n",
      "35                   2.6\n",
      "36                   3.0\n",
      "37                   4.8\n",
      "38                   4.0\n",
      "39                   3.2\n",
      "40                   4.4\n",
      "41                   2.4\n",
      "42                   3.4\n",
      "43                   2.8\n",
      "44                   4.8\n",
      "45                   3.8\n",
      "46                   2.4\n",
      "47                   4.6\n",
      "48                   4.0\n",
      "49                   3.2\n",
      "50                   4.4\n",
      "51                   3.6\n",
      "52                   3.6\n",
      "53                   2.4\n",
      "54                   3.4\n",
      "55                   4.8\n",
      "56                   3.6\n"
     ]
    }
   ],
   "source": [
    "# Overall satisfaction scores\n",
    "print(df[['Overall_Satisfaction']])"
   ]
  },
  {
   "cell_type": "code",
   "execution_count": 62,
   "id": "159e8e70",
   "metadata": {},
   "outputs": [
    {
     "name": "stdout",
     "output_type": "stream",
     "text": [
      "0     1\n",
      "1     0\n",
      "2     1\n",
      "3     0\n",
      "4     1\n",
      "5     1\n",
      "6     0\n",
      "7     0\n",
      "8     1\n",
      "9     0\n",
      "10    1\n",
      "11    0\n",
      "12    1\n",
      "13    1\n",
      "14    0\n",
      "15    1\n",
      "16    0\n",
      "17    0\n",
      "18    1\n",
      "19    0\n",
      "20    1\n",
      "21    1\n",
      "22    0\n",
      "23    0\n",
      "24    1\n",
      "25    0\n",
      "26    1\n",
      "27    0\n",
      "28    0\n",
      "29    1\n",
      "30    1\n",
      "31    0\n",
      "32    1\n",
      "33    0\n",
      "34    1\n",
      "35    1\n",
      "36    0\n",
      "37    0\n",
      "38    1\n",
      "39    0\n",
      "40    1\n",
      "41    0\n",
      "42    1\n",
      "43    1\n",
      "44    0\n",
      "45    1\n",
      "46    0\n",
      "47    0\n",
      "48    1\n",
      "49    0\n",
      "50    1\n",
      "51    1\n",
      "52    0\n",
      "53    0\n",
      "54    1\n",
      "55    0\n",
      "56    1\n",
      "Name:  Readmission, dtype: int64\n"
     ]
    }
   ],
   "source": [
    "print(df[' Readmission'])"
   ]
  },
  {
   "cell_type": "code",
   "execution_count": 63,
   "id": "d50d6cc6",
   "metadata": {},
   "outputs": [],
   "source": [
    "# Importing\n",
    "import pandas as pd\n",
    "import matplotlib.pyplot as plt\n",
    "from sklearn.linear_model import LogisticRegression\n",
    "X = df[['Overall_Satisfaction']]\n",
    "Y = df[' Readmission']\n",
    "log_reg = LogisticRegression().fit(X, Y)"
   ]
  },
  {
   "cell_type": "code",
   "execution_count": 65,
   "id": "182cc398",
   "metadata": {},
   "outputs": [],
   "source": [
    "# Data set - HOSPITAL 2\n",
    "data = {\n",
    "\n",
    "    'Overall Satisfaction': [ 4.2, 2.8, 4.4, 4.4, 4.0, 2.6, 3.0, 4.8, 4.0, 3.2, 4.4, 2.4, 3.4, 2.8, 4.8, 3.8, 2.4, 4.6, 4.0, 3.2, 4.4, 3.6, 3.6, 2.4, 3.4, 4.8, 3.6, 3.6, 2.4, 3.4, 4.2, 2.8, 4.4, 4.4, 4.0, 2.6, 3.0, 4.8, 4.0, 3.2, 4.4, 2.4, 3.4, 2.8, 4.8, 3.8, 2.4, 4.6, 4.0, 3.2, 4.4, 3.6, 3.6, 2.4, 3.4, 4.8, 3.6], \n",
    "    'Readmission': [ 1, 0, 1, 0, 1, 1, 0, 0, 1, 0, 1, 0, 1, 1, 0, 1, 0, 0, 1, 0, 1, 1, 0, 0, 1, 0, 1, 0, 0, 1, 1, 0, 1, 0, 1, 1, 0, 0, 1,  0, 1, 0, 1, 1, 0, 1, 0, 0, 1, 0, 1, 1, 0, 0, 1, 0, 1]\n",
    "\n",
    "}"
   ]
  },
  {
   "cell_type": "code",
   "execution_count": 66,
   "id": "d9291dd1",
   "metadata": {},
   "outputs": [
    {
     "name": "stdout",
     "output_type": "stream",
     "text": [
      "       Overall Satisfaction  Readmission\n",
      "count             57.000000    57.000000\n",
      "mean               3.638596     0.508772\n",
      "std                0.775001     0.504367\n",
      "min                2.400000     0.000000\n",
      "25%                3.000000     0.000000\n",
      "50%                3.600000     1.000000\n",
      "75%                4.400000     1.000000\n",
      "max                4.800000     1.000000\n"
     ]
    }
   ],
   "source": [
    "df = pd.DataFrame(data)\n",
    "\n",
    "df_descriptive = df.describe()\n",
    "\n",
    "print(df_descriptive)"
   ]
  },
  {
   "cell_type": "code",
   "execution_count": 67,
   "id": "422f5ddc",
   "metadata": {},
   "outputs": [],
   "source": [
    "# Prepare the data - HOSPITAL 2\n",
    "X = df[['Overall Satisfaction']]\n",
    "Y = df['Readmission']"
   ]
  },
  {
   "cell_type": "code",
   "execution_count": 68,
   "id": "7bcef429",
   "metadata": {},
   "outputs": [
    {
     "data": {
      "image/png": "[encoded data removed]",
      "text/plain": [
       "<Figure size 800x600 with 1 Axes>"
      ]
     },
     "metadata": {},
     "output_type": "display_data"
    }
   ],
   "source": [
    "# Scatter plot of Overall Satisfaction vs Readmission - HOSPITAL 2\n",
    "plt.figure(figsize=(8, 6))\n",
    "plt.scatter(df['Overall Satisfaction'], df['Readmission'], color='green')\n",
    "plt.xlabel('Overall Satisfaction')\n",
    "plt.ylabel('Readmission')\n",
    "plt.title(\"Overall Satisfaction vs Readmission - Hospital 2\")\n",
    "plt.show()"
   ]
  },
  {
   "cell_type": "code",
   "execution_count": 69,
   "id": "bb006042",
   "metadata": {},
   "outputs": [],
   "source": [
    "# Logistic regression model - HOSPITAL 2\n",
    "X = df[['Overall Satisfaction']]\n",
    "Y = df['Readmission']\n",
    "regression = LogisticRegression().fit(X,Y)"
   ]
  },
  {
   "cell_type": "code",
   "execution_count": 70,
   "id": "7a48b87c",
   "metadata": {},
   "outputs": [
    {
     "name": "stderr",
     "output_type": "stream",
     "text": [
      "C:\\Users\\USER\\anaconda3\\Lib\\site-packages\\sklearn\\base.py:464: UserWarning: X does not have valid feature names, but LogisticRegression was fitted with feature names\n",
      "  warnings.warn(\n"
     ]
    },
    {
     "data": {
      "image/png": "[encoded data removed]",
      "text/plain": [
       "<Figure size 640x480 with 1 Axes>"
      ]
     },
     "metadata": {},
     "output_type": "display_data"
    }
   ],
   "source": [
    "X = df[['Overall Satisfaction']].values.reshape(-1,1)\n",
    "Y = df['Readmission'].values.reshape(-1,1)\n",
    "plt.plot(X, regression.predict(X), label = \"Regression Line\", color= \"blue\")\n",
    "plt.scatter(df['Overall Satisfaction'], df['Readmission'], color='green')\n",
    "plt.show()"
   ]
  },
  {
   "cell_type": "code",
   "execution_count": 71,
   "id": "0698a723",
   "metadata": {},
   "outputs": [
    {
     "name": "stdout",
     "output_type": "stream",
     "text": [
      "The absolute correlation coefficient is 0.33, indicating a weak correlation.\n"
     ]
    },
    {
     "name": "stderr",
     "output_type": "stream",
     "text": [
      "C:\\Users\\USER\\anaconda3\\Lib\\site-packages\\sklearn\\utils\\validation.py:1184: DataConversionWarning: A column-vector y was passed when a 1d array was expected. Please change the shape of y to (n_samples, ), for example using ravel().\n",
      "  y = column_or_1d(y, warn=True)\n"
     ]
    }
   ],
   "source": [
    "# Logistic regression model - HOSPITAL 2\n",
    "regression = LogisticRegression().fit(X,Y)\n",
    "\n",
    "# Correlation coefficient\n",
    "correlation = log_reg.coef_[0][0]\n",
    "\n",
    "# Absolute Correlation\n",
    "abs_correlation = abs(correlation)\n",
    "\n",
    "# Threshold \n",
    "threshold = 0.5\n",
    "\n",
    "# Determine the strength of the correlation\n",
    "if abs_correlation >= threshold:\n",
    "    strength = \"strong\"\n",
    "else:\n",
    "    strength = \"weak\"\n",
    "\n",
    "print(f\"The absolute correlation coefficient is {abs_correlation:.2f}, indicating a {strength} correlation.\")"
   ]
  },
  {
   "cell_type": "code",
   "execution_count": null,
   "id": "665a152d",
   "metadata": {},
   "outputs": [],
   "source": [
    "# Hospital comparison: Based on the data analysis and logistic regression results, both hospitals have a weak correlation. Between overall satisfcation scores and readmission rates, Hospital 2 has a higher satisfaction rating than Hospital 1. Both hospitals have similar low readmission rates which shows that they are performing well in this area. Hospital 2 may be doing slightly better in terms of patient satisfaction compared to Hospital 1."
   ]
  }
 ],
 "metadata": {
  "kernelspec": {
   "display_name": "Python 3 (ipykernel)",
   "language": "python",
   "name": "python3"
  },
  "language_info": {
   "codemirror_mode": {
    "name": "ipython",
    "version": 3
   },
   "file_extension": ".py",
   "mimetype": "text/x-python",
   "name": "python",
   "nbconvert_exporter": "python",
   "pygments_lexer": "ipython3",
   "version": "3.11.4"
  }
 },
 "nbformat": 4,
 "nbformat_minor": 5
}
